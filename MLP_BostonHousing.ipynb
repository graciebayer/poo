{
  "nbformat": 4,
  "nbformat_minor": 0,
  "metadata": {
    "colab": {
      "provenance": []
    },
    "kernelspec": {
      "name": "python3",
      "display_name": "Python 3"
    },
    "language_info": {
      "name": "python"
    },
    "accelerator": "GPU",
    "gpuClass": "standard"
  },
  "cells": [
    {
      "cell_type": "code",
      "execution_count": 1,
      "metadata": {
        "id": "yemhUNMC8zjg"
      },
      "outputs": [],
      "source": [
        "import pandas as pd\n",
        "import numpy as np\n",
        "import tensorflow as tf\n",
        "from tensorflow import keras\n",
        "from tensorflow.keras.layers import Dense\n",
        "from tensorflow.keras import Sequential\n",
        "import matplotlib.pyplot as plt\n",
        "from sklearn.model_selection import train_test_split"
      ]
    },
    {
      "cell_type": "code",
      "source": [
        "\n",
        "house =  pd.read_csv(\"/content/drive/MyDrive/Colab Notebooks/Chapter10ANN/BostonHousing.csv\" )\n",
        "house.head()"
      ],
      "metadata": {
        "id": "QOalZkw5DAOX",
        "colab": {
          "base_uri": "https://localhost:8080/",
          "height": 270
        },
        "outputId": "2e648ec3-1c5a-494c-e780-587b87c79516"
      },
      "execution_count": 2,
      "outputs": [
        {
          "output_type": "execute_result",
          "data": {
            "text/plain": [
              "      crim    zn  indus  chas    nox     rm   age     dis  rad  tax  ptratio  \\\n",
              "0  0.00632  18.0   2.31     0  0.538  6.575  65.2  4.0900    1  296     15.3   \n",
              "1  0.02731   0.0   7.07     0  0.469  6.421  78.9  4.9671    2  242     17.8   \n",
              "2  0.02729   0.0   7.07     0  0.469  7.185  61.1  4.9671    2  242     17.8   \n",
              "3  0.03237   0.0   2.18     0  0.458  6.998  45.8  6.0622    3  222     18.7   \n",
              "4  0.06905   0.0   2.18     0  0.458  7.147  54.2  6.0622    3  222     18.7   \n",
              "\n",
              "        b  lstat  medv  \n",
              "0  396.90   4.98  24.0  \n",
              "1  396.90   9.14  21.6  \n",
              "2  392.83   4.03  34.7  \n",
              "3  394.63   2.94  33.4  \n",
              "4  396.90   5.33  36.2  "
            ],
            "text/html": [
              "\n",
              "  <div id=\"df-8151b8f8-0770-47c7-9577-4802d53507d4\">\n",
              "    <div class=\"colab-df-container\">\n",
              "      <div>\n",
              "<style scoped>\n",
              "    .dataframe tbody tr th:only-of-type {\n",
              "        vertical-align: middle;\n",
              "    }\n",
              "\n",
              "    .dataframe tbody tr th {\n",
              "        vertical-align: top;\n",
              "    }\n",
              "\n",
              "    .dataframe thead th {\n",
              "        text-align: right;\n",
              "    }\n",
              "</style>\n",
              "<table border=\"1\" class=\"dataframe\">\n",
              "  <thead>\n",
              "    <tr style=\"text-align: right;\">\n",
              "      <th></th>\n",
              "      <th>crim</th>\n",
              "      <th>zn</th>\n",
              "      <th>indus</th>\n",
              "      <th>chas</th>\n",
              "      <th>nox</th>\n",
              "      <th>rm</th>\n",
              "      <th>age</th>\n",
              "      <th>dis</th>\n",
              "      <th>rad</th>\n",
              "      <th>tax</th>\n",
              "      <th>ptratio</th>\n",
              "      <th>b</th>\n",
              "      <th>lstat</th>\n",
              "      <th>medv</th>\n",
              "    </tr>\n",
              "  </thead>\n",
              "  <tbody>\n",
              "    <tr>\n",
              "      <th>0</th>\n",
              "      <td>0.00632</td>\n",
              "      <td>18.0</td>\n",
              "      <td>2.31</td>\n",
              "      <td>0</td>\n",
              "      <td>0.538</td>\n",
              "      <td>6.575</td>\n",
              "      <td>65.2</td>\n",
              "      <td>4.0900</td>\n",
              "      <td>1</td>\n",
              "      <td>296</td>\n",
              "      <td>15.3</td>\n",
              "      <td>396.90</td>\n",
              "      <td>4.98</td>\n",
              "      <td>24.0</td>\n",
              "    </tr>\n",
              "    <tr>\n",
              "      <th>1</th>\n",
              "      <td>0.02731</td>\n",
              "      <td>0.0</td>\n",
              "      <td>7.07</td>\n",
              "      <td>0</td>\n",
              "      <td>0.469</td>\n",
              "      <td>6.421</td>\n",
              "      <td>78.9</td>\n",
              "      <td>4.9671</td>\n",
              "      <td>2</td>\n",
              "      <td>242</td>\n",
              "      <td>17.8</td>\n",
              "      <td>396.90</td>\n",
              "      <td>9.14</td>\n",
              "      <td>21.6</td>\n",
              "    </tr>\n",
              "    <tr>\n",
              "      <th>2</th>\n",
              "      <td>0.02729</td>\n",
              "      <td>0.0</td>\n",
              "      <td>7.07</td>\n",
              "      <td>0</td>\n",
              "      <td>0.469</td>\n",
              "      <td>7.185</td>\n",
              "      <td>61.1</td>\n",
              "      <td>4.9671</td>\n",
              "      <td>2</td>\n",
              "      <td>242</td>\n",
              "      <td>17.8</td>\n",
              "      <td>392.83</td>\n",
              "      <td>4.03</td>\n",
              "      <td>34.7</td>\n",
              "    </tr>\n",
              "    <tr>\n",
              "      <th>3</th>\n",
              "      <td>0.03237</td>\n",
              "      <td>0.0</td>\n",
              "      <td>2.18</td>\n",
              "      <td>0</td>\n",
              "      <td>0.458</td>\n",
              "      <td>6.998</td>\n",
              "      <td>45.8</td>\n",
              "      <td>6.0622</td>\n",
              "      <td>3</td>\n",
              "      <td>222</td>\n",
              "      <td>18.7</td>\n",
              "      <td>394.63</td>\n",
              "      <td>2.94</td>\n",
              "      <td>33.4</td>\n",
              "    </tr>\n",
              "    <tr>\n",
              "      <th>4</th>\n",
              "      <td>0.06905</td>\n",
              "      <td>0.0</td>\n",
              "      <td>2.18</td>\n",
              "      <td>0</td>\n",
              "      <td>0.458</td>\n",
              "      <td>7.147</td>\n",
              "      <td>54.2</td>\n",
              "      <td>6.0622</td>\n",
              "      <td>3</td>\n",
              "      <td>222</td>\n",
              "      <td>18.7</td>\n",
              "      <td>396.90</td>\n",
              "      <td>5.33</td>\n",
              "      <td>36.2</td>\n",
              "    </tr>\n",
              "  </tbody>\n",
              "</table>\n",
              "</div>\n",
              "      <button class=\"colab-df-convert\" onclick=\"convertToInteractive('df-8151b8f8-0770-47c7-9577-4802d53507d4')\"\n",
              "              title=\"Convert this dataframe to an interactive table.\"\n",
              "              style=\"display:none;\">\n",
              "        \n",
              "  <svg xmlns=\"http://www.w3.org/2000/svg\" height=\"24px\"viewBox=\"0 0 24 24\"\n",
              "       width=\"24px\">\n",
              "    <path d=\"M0 0h24v24H0V0z\" fill=\"none\"/>\n",
              "    <path d=\"M18.56 5.44l.94 2.06.94-2.06 2.06-.94-2.06-.94-.94-2.06-.94 2.06-2.06.94zm-11 1L8.5 8.5l.94-2.06 2.06-.94-2.06-.94L8.5 2.5l-.94 2.06-2.06.94zm10 10l.94 2.06.94-2.06 2.06-.94-2.06-.94-.94-2.06-.94 2.06-2.06.94z\"/><path d=\"M17.41 7.96l-1.37-1.37c-.4-.4-.92-.59-1.43-.59-.52 0-1.04.2-1.43.59L10.3 9.45l-7.72 7.72c-.78.78-.78 2.05 0 2.83L4 21.41c.39.39.9.59 1.41.59.51 0 1.02-.2 1.41-.59l7.78-7.78 2.81-2.81c.8-.78.8-2.07 0-2.86zM5.41 20L4 18.59l7.72-7.72 1.47 1.35L5.41 20z\"/>\n",
              "  </svg>\n",
              "      </button>\n",
              "      \n",
              "  <style>\n",
              "    .colab-df-container {\n",
              "      display:flex;\n",
              "      flex-wrap:wrap;\n",
              "      gap: 12px;\n",
              "    }\n",
              "\n",
              "    .colab-df-convert {\n",
              "      background-color: #E8F0FE;\n",
              "      border: none;\n",
              "      border-radius: 50%;\n",
              "      cursor: pointer;\n",
              "      display: none;\n",
              "      fill: #1967D2;\n",
              "      height: 32px;\n",
              "      padding: 0 0 0 0;\n",
              "      width: 32px;\n",
              "    }\n",
              "\n",
              "    .colab-df-convert:hover {\n",
              "      background-color: #E2EBFA;\n",
              "      box-shadow: 0px 1px 2px rgba(60, 64, 67, 0.3), 0px 1px 3px 1px rgba(60, 64, 67, 0.15);\n",
              "      fill: #174EA6;\n",
              "    }\n",
              "\n",
              "    [theme=dark] .colab-df-convert {\n",
              "      background-color: #3B4455;\n",
              "      fill: #D2E3FC;\n",
              "    }\n",
              "\n",
              "    [theme=dark] .colab-df-convert:hover {\n",
              "      background-color: #434B5C;\n",
              "      box-shadow: 0px 1px 3px 1px rgba(0, 0, 0, 0.15);\n",
              "      filter: drop-shadow(0px 1px 2px rgba(0, 0, 0, 0.3));\n",
              "      fill: #FFFFFF;\n",
              "    }\n",
              "  </style>\n",
              "\n",
              "      <script>\n",
              "        const buttonEl =\n",
              "          document.querySelector('#df-8151b8f8-0770-47c7-9577-4802d53507d4 button.colab-df-convert');\n",
              "        buttonEl.style.display =\n",
              "          google.colab.kernel.accessAllowed ? 'block' : 'none';\n",
              "\n",
              "        async function convertToInteractive(key) {\n",
              "          const element = document.querySelector('#df-8151b8f8-0770-47c7-9577-4802d53507d4');\n",
              "          const dataTable =\n",
              "            await google.colab.kernel.invokeFunction('convertToInteractive',\n",
              "                                                     [key], {});\n",
              "          if (!dataTable) return;\n",
              "\n",
              "          const docLinkHtml = 'Like what you see? Visit the ' +\n",
              "            '<a target=\"_blank\" href=https://colab.research.google.com/notebooks/data_table.ipynb>data table notebook</a>'\n",
              "            + ' to learn more about interactive tables.';\n",
              "          element.innerHTML = '';\n",
              "          dataTable['output_type'] = 'display_data';\n",
              "          await google.colab.output.renderOutput(dataTable, element);\n",
              "          const docLink = document.createElement('div');\n",
              "          docLink.innerHTML = docLinkHtml;\n",
              "          element.appendChild(docLink);\n",
              "        }\n",
              "      </script>\n",
              "    </div>\n",
              "  </div>\n",
              "  "
            ]
          },
          "metadata": {},
          "execution_count": 2
        }
      ]
    },
    {
      "cell_type": "code",
      "source": [
        "house.info()"
      ],
      "metadata": {
        "id": "uWE6egqGDXFx",
        "colab": {
          "base_uri": "https://localhost:8080/"
        },
        "outputId": "9822e092-5f11-453c-c015-51c6fe3c9147"
      },
      "execution_count": 3,
      "outputs": [
        {
          "output_type": "stream",
          "name": "stdout",
          "text": [
            "<class 'pandas.core.frame.DataFrame'>\n",
            "RangeIndex: 506 entries, 0 to 505\n",
            "Data columns (total 14 columns):\n",
            " #   Column   Non-Null Count  Dtype  \n",
            "---  ------   --------------  -----  \n",
            " 0   crim     506 non-null    float64\n",
            " 1   zn       506 non-null    float64\n",
            " 2   indus    506 non-null    float64\n",
            " 3   chas     506 non-null    int64  \n",
            " 4   nox      506 non-null    float64\n",
            " 5   rm       506 non-null    float64\n",
            " 6   age      506 non-null    float64\n",
            " 7   dis      506 non-null    float64\n",
            " 8   rad      506 non-null    int64  \n",
            " 9   tax      506 non-null    int64  \n",
            " 10  ptratio  506 non-null    float64\n",
            " 11  b        506 non-null    float64\n",
            " 12  lstat    506 non-null    float64\n",
            " 13  medv     506 non-null    float64\n",
            "dtypes: float64(11), int64(3)\n",
            "memory usage: 55.5 KB\n"
          ]
        }
      ]
    },
    {
      "cell_type": "code",
      "source": [
        "X=house.drop(\"medv\", axis=1)"
      ],
      "metadata": {
        "id": "ifQuHlpqEf-u"
      },
      "execution_count": 4,
      "outputs": []
    },
    {
      "cell_type": "code",
      "source": [
        "y=house.medv"
      ],
      "metadata": {
        "id": "yimJGWBZE30J"
      },
      "execution_count": 5,
      "outputs": []
    },
    {
      "cell_type": "code",
      "source": [
        "from sklearn.preprocessing import StandardScaler\n",
        "sc_x=StandardScaler()\n",
        "#sc_y=StandardScaler()\n",
        "X=sc_x.fit_transform(X)\n",
        "#y=sc_y.fit_transform(y)\n",
        "\n",
        "#feature normalization\n",
        "#X =  keras.utils.normalize(X.values)\n",
        "print(X)"
      ],
      "metadata": {
        "id": "At6Y8WklFCFd",
        "colab": {
          "base_uri": "https://localhost:8080/"
        },
        "outputId": "ebd5db19-6282-43b6-8389-3a6708aede19"
      },
      "execution_count": 6,
      "outputs": [
        {
          "output_type": "stream",
          "name": "stdout",
          "text": [
            "[[-0.41978194  0.28482986 -1.2879095  ... -1.45900038  0.44105193\n",
            "  -1.0755623 ]\n",
            " [-0.41733926 -0.48772236 -0.59338101 ... -0.30309415  0.44105193\n",
            "  -0.49243937]\n",
            " [-0.41734159 -0.48772236 -0.59338101 ... -0.30309415  0.39642699\n",
            "  -1.2087274 ]\n",
            " ...\n",
            " [-0.41344658 -0.48772236  0.11573841 ...  1.17646583  0.44105193\n",
            "  -0.98304761]\n",
            " [-0.40776407 -0.48772236  0.11573841 ...  1.17646583  0.4032249\n",
            "  -0.86530163]\n",
            " [-0.41500016 -0.48772236  0.11573841 ...  1.17646583  0.44105193\n",
            "  -0.66905833]]\n"
          ]
        }
      ]
    },
    {
      "cell_type": "code",
      "source": [
        "X_train, X_test, y_train, y_test = train_test_split(X,y, \n",
        "                                                    test_size=0.2, random_state=0) "
      ],
      "metadata": {
        "id": "jy4Jt5H0FcEd"
      },
      "execution_count": 7,
      "outputs": []
    },
    {
      "cell_type": "code",
      "source": [
        "#get number of columns in training data\n",
        "n_cols = X_train.shape[1]\n",
        "\n",
        "# builds model\n",
        "model = Sequential()\n",
        "\n",
        "model.add(Dense(150, activation='relu', \n",
        "                       input_shape=(n_cols,)))\n",
        "model.add(Dense(150, activation='relu'))\n",
        "model.add(Dense(150, activation='relu'))\n",
        "model.add(Dense(150, activation='relu'))\n",
        "model.add(Dense(150, activation='relu'))\n",
        "model.add(Dense(1))\n",
        "\n",
        "#compile model\n",
        "model.compile(loss='mse', optimizer='adam', metrics=['mae']) # use metric as mean absolute error\n",
        "\n",
        "#inspect the model\n",
        "model.summary()"
      ],
      "metadata": {
        "id": "FsJkXqZvFnSZ",
        "colab": {
          "base_uri": "https://localhost:8080/"
        },
        "outputId": "5d8baa37-b0c8-4699-e09d-a03e35fe3eff"
      },
      "execution_count": 8,
      "outputs": [
        {
          "output_type": "stream",
          "name": "stdout",
          "text": [
            "Model: \"sequential\"\n",
            "_________________________________________________________________\n",
            " Layer (type)                Output Shape              Param #   \n",
            "=================================================================\n",
            " dense (Dense)               (None, 150)               2100      \n",
            "                                                                 \n",
            " dense_1 (Dense)             (None, 150)               22650     \n",
            "                                                                 \n",
            " dense_2 (Dense)             (None, 150)               22650     \n",
            "                                                                 \n",
            " dense_3 (Dense)             (None, 150)               22650     \n",
            "                                                                 \n",
            " dense_4 (Dense)             (None, 150)               22650     \n",
            "                                                                 \n",
            " dense_5 (Dense)             (None, 1)                 151       \n",
            "                                                                 \n",
            "=================================================================\n",
            "Total params: 92,851\n",
            "Trainable params: 92,851\n",
            "Non-trainable params: 0\n",
            "_________________________________________________________________\n"
          ]
        }
      ]
    },
    {
      "cell_type": "code",
      "source": [
        "from keras.callbacks import EarlyStopping\n",
        "#train model and perform validation test\n",
        "\n",
        "early_stop = EarlyStopping(monitor='val_loss', patience=30) # stops training when it doesn't show improvemnet.\n",
        "\n",
        "history = model.fit(X_train, y_train, epochs=300, \n",
        "          validation_split=0.2, verbose=1, callbacks=[early_stop])"
      ],
      "metadata": {
        "id": "gDaDS47JHqEj",
        "colab": {
          "base_uri": "https://localhost:8080/"
        },
        "outputId": "2b9120f1-9a29-46b0-c5eb-02e4560756fd"
      },
      "execution_count": 9,
      "outputs": [
        {
          "output_type": "stream",
          "name": "stdout",
          "text": [
            "Epoch 1/300\n",
            "11/11 [==============================] - 3s 23ms/step - loss: 506.0175 - mae: 20.5768 - val_loss: 261.8039 - val_mae: 14.1311\n",
            "Epoch 2/300\n",
            "11/11 [==============================] - 0s 5ms/step - loss: 156.1505 - mae: 10.1466 - val_loss: 84.5010 - val_mae: 7.2220\n",
            "Epoch 3/300\n",
            "11/11 [==============================] - 0s 7ms/step - loss: 59.8235 - mae: 6.0327 - val_loss: 38.9723 - val_mae: 4.6799\n",
            "Epoch 4/300\n",
            "11/11 [==============================] - 0s 5ms/step - loss: 33.0520 - mae: 4.1736 - val_loss: 25.6891 - val_mae: 3.7282\n",
            "Epoch 5/300\n",
            "11/11 [==============================] - 0s 5ms/step - loss: 23.9085 - mae: 3.5710 - val_loss: 21.8201 - val_mae: 3.3151\n",
            "Epoch 6/300\n",
            "11/11 [==============================] - 0s 5ms/step - loss: 18.0562 - mae: 3.0652 - val_loss: 20.5195 - val_mae: 3.3223\n",
            "Epoch 7/300\n",
            "11/11 [==============================] - 0s 5ms/step - loss: 15.5824 - mae: 2.8608 - val_loss: 17.0234 - val_mae: 2.9712\n",
            "Epoch 8/300\n",
            "11/11 [==============================] - 0s 6ms/step - loss: 14.0289 - mae: 2.7377 - val_loss: 16.0646 - val_mae: 2.8072\n",
            "Epoch 9/300\n",
            "11/11 [==============================] - 0s 5ms/step - loss: 16.6873 - mae: 3.0917 - val_loss: 14.0172 - val_mae: 2.7272\n",
            "Epoch 10/300\n",
            "11/11 [==============================] - 0s 5ms/step - loss: 13.8266 - mae: 2.7457 - val_loss: 16.1160 - val_mae: 2.9141\n",
            "Epoch 11/300\n",
            "11/11 [==============================] - 0s 5ms/step - loss: 14.0409 - mae: 2.7780 - val_loss: 10.4088 - val_mae: 2.3737\n",
            "Epoch 12/300\n",
            "11/11 [==============================] - 0s 5ms/step - loss: 10.7802 - mae: 2.4656 - val_loss: 12.4807 - val_mae: 2.5833\n",
            "Epoch 13/300\n",
            "11/11 [==============================] - 0s 5ms/step - loss: 10.5031 - mae: 2.3756 - val_loss: 13.1362 - val_mae: 2.6961\n",
            "Epoch 14/300\n",
            "11/11 [==============================] - 0s 5ms/step - loss: 9.6424 - mae: 2.3164 - val_loss: 10.6841 - val_mae: 2.3466\n",
            "Epoch 15/300\n",
            "11/11 [==============================] - 0s 5ms/step - loss: 8.6311 - mae: 2.1450 - val_loss: 11.2694 - val_mae: 2.4255\n",
            "Epoch 16/300\n",
            "11/11 [==============================] - 0s 6ms/step - loss: 9.1184 - mae: 2.2923 - val_loss: 10.1634 - val_mae: 2.3059\n",
            "Epoch 17/300\n",
            "11/11 [==============================] - 0s 5ms/step - loss: 9.0855 - mae: 2.2510 - val_loss: 9.7281 - val_mae: 2.2932\n",
            "Epoch 18/300\n",
            "11/11 [==============================] - 0s 7ms/step - loss: 7.9218 - mae: 2.0521 - val_loss: 9.4764 - val_mae: 2.2434\n",
            "Epoch 19/300\n",
            "11/11 [==============================] - 0s 6ms/step - loss: 7.4829 - mae: 2.0047 - val_loss: 9.7722 - val_mae: 2.3186\n",
            "Epoch 20/300\n",
            "11/11 [==============================] - 0s 6ms/step - loss: 7.8232 - mae: 2.1085 - val_loss: 8.5285 - val_mae: 2.1739\n",
            "Epoch 21/300\n",
            "11/11 [==============================] - 0s 6ms/step - loss: 7.6317 - mae: 2.0418 - val_loss: 8.4188 - val_mae: 2.1019\n",
            "Epoch 22/300\n",
            "11/11 [==============================] - 0s 6ms/step - loss: 9.3425 - mae: 2.3525 - val_loss: 10.2837 - val_mae: 2.3894\n",
            "Epoch 23/300\n",
            "11/11 [==============================] - 0s 6ms/step - loss: 8.4021 - mae: 2.1537 - val_loss: 26.0665 - val_mae: 3.9731\n",
            "Epoch 24/300\n",
            "11/11 [==============================] - 0s 5ms/step - loss: 12.1231 - mae: 2.7257 - val_loss: 8.6452 - val_mae: 2.1751\n",
            "Epoch 25/300\n",
            "11/11 [==============================] - 0s 7ms/step - loss: 7.6263 - mae: 2.0778 - val_loss: 8.2641 - val_mae: 2.1551\n",
            "Epoch 26/300\n",
            "11/11 [==============================] - 0s 5ms/step - loss: 5.9500 - mae: 1.8650 - val_loss: 6.9705 - val_mae: 1.9854\n",
            "Epoch 27/300\n",
            "11/11 [==============================] - 0s 6ms/step - loss: 5.6934 - mae: 1.8081 - val_loss: 7.3539 - val_mae: 2.0588\n",
            "Epoch 28/300\n",
            "11/11 [==============================] - 0s 6ms/step - loss: 5.2035 - mae: 1.7280 - val_loss: 7.2579 - val_mae: 2.0682\n",
            "Epoch 29/300\n",
            "11/11 [==============================] - 0s 6ms/step - loss: 5.2738 - mae: 1.7411 - val_loss: 7.0291 - val_mae: 1.9646\n",
            "Epoch 30/300\n",
            "11/11 [==============================] - 0s 5ms/step - loss: 5.6112 - mae: 1.8459 - val_loss: 6.6459 - val_mae: 1.9625\n",
            "Epoch 31/300\n",
            "11/11 [==============================] - 0s 5ms/step - loss: 4.6859 - mae: 1.6255 - val_loss: 6.9621 - val_mae: 2.0195\n",
            "Epoch 32/300\n",
            "11/11 [==============================] - 0s 5ms/step - loss: 4.8095 - mae: 1.6438 - val_loss: 7.0263 - val_mae: 2.0191\n",
            "Epoch 33/300\n",
            "11/11 [==============================] - 0s 5ms/step - loss: 4.7410 - mae: 1.6505 - val_loss: 6.4526 - val_mae: 1.9415\n",
            "Epoch 34/300\n",
            "11/11 [==============================] - 0s 5ms/step - loss: 4.7683 - mae: 1.6606 - val_loss: 7.2247 - val_mae: 1.9988\n",
            "Epoch 35/300\n",
            "11/11 [==============================] - 0s 5ms/step - loss: 4.4660 - mae: 1.6043 - val_loss: 6.9952 - val_mae: 1.9685\n",
            "Epoch 36/300\n",
            "11/11 [==============================] - 0s 6ms/step - loss: 4.2087 - mae: 1.5707 - val_loss: 11.0570 - val_mae: 2.5533\n",
            "Epoch 37/300\n",
            "11/11 [==============================] - 0s 5ms/step - loss: 8.3824 - mae: 2.3321 - val_loss: 10.4574 - val_mae: 2.5306\n",
            "Epoch 38/300\n",
            "11/11 [==============================] - 0s 5ms/step - loss: 5.8854 - mae: 1.8549 - val_loss: 7.3317 - val_mae: 2.0530\n",
            "Epoch 39/300\n",
            "11/11 [==============================] - 0s 6ms/step - loss: 4.4402 - mae: 1.6332 - val_loss: 9.4037 - val_mae: 2.3825\n",
            "Epoch 40/300\n",
            "11/11 [==============================] - 0s 5ms/step - loss: 5.0541 - mae: 1.7329 - val_loss: 8.7502 - val_mae: 2.2439\n",
            "Epoch 41/300\n",
            "11/11 [==============================] - 0s 5ms/step - loss: 4.4203 - mae: 1.6441 - val_loss: 8.2636 - val_mae: 2.1654\n",
            "Epoch 42/300\n",
            "11/11 [==============================] - 0s 5ms/step - loss: 3.7108 - mae: 1.4449 - val_loss: 6.5651 - val_mae: 1.9286\n",
            "Epoch 43/300\n",
            "11/11 [==============================] - 0s 5ms/step - loss: 3.5904 - mae: 1.4540 - val_loss: 7.2707 - val_mae: 2.1104\n",
            "Epoch 44/300\n",
            "11/11 [==============================] - 0s 6ms/step - loss: 3.9837 - mae: 1.4955 - val_loss: 6.2415 - val_mae: 1.8839\n",
            "Epoch 45/300\n",
            "11/11 [==============================] - 0s 5ms/step - loss: 3.8441 - mae: 1.4814 - val_loss: 7.9787 - val_mae: 2.1848\n",
            "Epoch 46/300\n",
            "11/11 [==============================] - 0s 5ms/step - loss: 3.7581 - mae: 1.5024 - val_loss: 6.9343 - val_mae: 1.9321\n",
            "Epoch 47/300\n",
            "11/11 [==============================] - 0s 5ms/step - loss: 3.5157 - mae: 1.4681 - val_loss: 7.7813 - val_mae: 2.1312\n",
            "Epoch 48/300\n",
            "11/11 [==============================] - 0s 6ms/step - loss: 3.3651 - mae: 1.3698 - val_loss: 6.7614 - val_mae: 2.0121\n",
            "Epoch 49/300\n",
            "11/11 [==============================] - 0s 5ms/step - loss: 3.2509 - mae: 1.3372 - val_loss: 7.6799 - val_mae: 2.1215\n",
            "Epoch 50/300\n",
            "11/11 [==============================] - 0s 5ms/step - loss: 2.8324 - mae: 1.2352 - val_loss: 6.5805 - val_mae: 1.9436\n",
            "Epoch 51/300\n",
            "11/11 [==============================] - 0s 8ms/step - loss: 2.6534 - mae: 1.2058 - val_loss: 6.6643 - val_mae: 1.9555\n",
            "Epoch 52/300\n",
            "11/11 [==============================] - 0s 5ms/step - loss: 2.6734 - mae: 1.2008 - val_loss: 6.8839 - val_mae: 1.9853\n",
            "Epoch 53/300\n",
            "11/11 [==============================] - 0s 6ms/step - loss: 2.7518 - mae: 1.2325 - val_loss: 6.7441 - val_mae: 1.9578\n",
            "Epoch 54/300\n",
            "11/11 [==============================] - 0s 5ms/step - loss: 2.6302 - mae: 1.1855 - val_loss: 6.7894 - val_mae: 1.9285\n",
            "Epoch 55/300\n",
            "11/11 [==============================] - 0s 6ms/step - loss: 2.5837 - mae: 1.1796 - val_loss: 7.2401 - val_mae: 2.0323\n",
            "Epoch 56/300\n",
            "11/11 [==============================] - 0s 6ms/step - loss: 2.3686 - mae: 1.1176 - val_loss: 7.8068 - val_mae: 2.0630\n",
            "Epoch 57/300\n",
            "11/11 [==============================] - 0s 5ms/step - loss: 2.5035 - mae: 1.1828 - val_loss: 6.8532 - val_mae: 1.9889\n",
            "Epoch 58/300\n",
            "11/11 [==============================] - 0s 8ms/step - loss: 2.3687 - mae: 1.1299 - val_loss: 6.8404 - val_mae: 1.8898\n",
            "Epoch 59/300\n",
            "11/11 [==============================] - 0s 6ms/step - loss: 2.4928 - mae: 1.1860 - val_loss: 7.2024 - val_mae: 2.0586\n",
            "Epoch 60/300\n",
            "11/11 [==============================] - 0s 7ms/step - loss: 2.2800 - mae: 1.1449 - val_loss: 7.1577 - val_mae: 1.9725\n",
            "Epoch 61/300\n",
            "11/11 [==============================] - 0s 6ms/step - loss: 2.0213 - mae: 1.0613 - val_loss: 7.1687 - val_mae: 2.0002\n",
            "Epoch 62/300\n",
            "11/11 [==============================] - 0s 5ms/step - loss: 2.3940 - mae: 1.1251 - val_loss: 7.7823 - val_mae: 2.0789\n",
            "Epoch 63/300\n",
            "11/11 [==============================] - 0s 5ms/step - loss: 2.6961 - mae: 1.2053 - val_loss: 7.2693 - val_mae: 2.0681\n",
            "Epoch 64/300\n",
            "11/11 [==============================] - 0s 6ms/step - loss: 2.1834 - mae: 1.0817 - val_loss: 7.0431 - val_mae: 1.9662\n",
            "Epoch 65/300\n",
            "11/11 [==============================] - 0s 6ms/step - loss: 3.1249 - mae: 1.3407 - val_loss: 8.0470 - val_mae: 2.1322\n",
            "Epoch 66/300\n",
            "11/11 [==============================] - 0s 5ms/step - loss: 2.4407 - mae: 1.1901 - val_loss: 7.2015 - val_mae: 1.9456\n",
            "Epoch 67/300\n",
            "11/11 [==============================] - 0s 5ms/step - loss: 2.6564 - mae: 1.2176 - val_loss: 6.4958 - val_mae: 1.9338\n",
            "Epoch 68/300\n",
            "11/11 [==============================] - 0s 5ms/step - loss: 3.3229 - mae: 1.4006 - val_loss: 6.8913 - val_mae: 2.0398\n",
            "Epoch 69/300\n",
            "11/11 [==============================] - 0s 5ms/step - loss: 2.5268 - mae: 1.1980 - val_loss: 7.0760 - val_mae: 2.0021\n",
            "Epoch 70/300\n",
            "11/11 [==============================] - 0s 6ms/step - loss: 2.7480 - mae: 1.2189 - val_loss: 7.2324 - val_mae: 1.9965\n",
            "Epoch 71/300\n",
            "11/11 [==============================] - 0s 5ms/step - loss: 2.0817 - mae: 1.1032 - val_loss: 6.2718 - val_mae: 1.8808\n",
            "Epoch 72/300\n",
            "11/11 [==============================] - 0s 5ms/step - loss: 2.2989 - mae: 1.1216 - val_loss: 8.0326 - val_mae: 2.1204\n",
            "Epoch 73/300\n",
            "11/11 [==============================] - 0s 5ms/step - loss: 2.6998 - mae: 1.2804 - val_loss: 7.7102 - val_mae: 2.0107\n",
            "Epoch 74/300\n",
            "11/11 [==============================] - 0s 5ms/step - loss: 2.8186 - mae: 1.2363 - val_loss: 7.0823 - val_mae: 1.9798\n"
          ]
        }
      ]
    },
    {
      "cell_type": "code",
      "source": [
        "# show the graph of model loss in trainig and validation \n",
        "\n",
        "plt.figure(figsize=(15,8))\n",
        "plt.xlabel('Epoch')\n",
        "plt.ylabel('Loss') #MSE\n",
        "plt.plot(history.epoch, history.history['loss'],\n",
        "           label='Train Loss')\n",
        "plt.plot(history.epoch, history.history['val_loss'],\n",
        "           label = 'Val loss')\n",
        "plt.title('Model loss')\n",
        "plt.legend()"
      ],
      "metadata": {
        "id": "q2CyoKSJIqO2",
        "colab": {
          "base_uri": "https://localhost:8080/",
          "height": 385
        },
        "outputId": "78950eb5-93dd-4c12-c89d-41f2b453d333"
      },
      "execution_count": 10,
      "outputs": [
        {
          "output_type": "execute_result",
          "data": {
            "text/plain": [
              "<matplotlib.legend.Legend at 0x7f0487a0f850>"
            ]
          },
          "metadata": {},
          "execution_count": 10
        },
        {
          "output_type": "display_data",
          "data": {
            "text/plain": [
              "<Figure size 1080x576 with 1 Axes>"
            ],
            "image/png": "[encoded data removed]"
          },
          "metadata": {
            "needs_background": "light"
          }
        }
      ]
    },
    {
      "cell_type": "code",
      "source": [
        "# show the graph of model loss in trainig and validation \n",
        "\n",
        "plt.figure(figsize=(15,8))\n",
        "plt.xlabel('Epoch')\n",
        "plt.ylabel('Mean Absolute Error')\n",
        "plt.plot(history.epoch, history.history['mae'],\n",
        "           label='Train error')\n",
        "plt.plot(history.epoch, history.history['val_mae'],\n",
        "           label = 'Val error')\n",
        "plt.title('Model error')\n",
        "plt.legend()"
      ],
      "metadata": {
        "id": "V_Jpg-ML3zym",
        "colab": {
          "base_uri": "https://localhost:8080/",
          "height": 383
        },
        "outputId": "9d50dc54-bae0-42c5-c882-724f576bcd7d"
      },
      "execution_count": 11,
      "outputs": [
        {
          "output_type": "execute_result",
          "data": {
            "text/plain": [
              "<matplotlib.legend.Legend at 0x7f04702f06d0>"
            ]
          },
          "metadata": {},
          "execution_count": 11
        },
        {
          "output_type": "display_data",
          "data": {
            "text/plain": [
              "<Figure size 1080x576 with 1 Axes>"
            ],
            "image/png": "[encoded data removed]"
          },
          "metadata": {
            "needs_background": "light"
          }
        }
      ]
    },
    {
      "cell_type": "code",
      "source": [
        "score = model.evaluate(X_test, y_test, verbose=1)\n",
        "print('loss value: ', score[0]) #MSE\n",
        "print('Mean absolute error: ', score[1])"
      ],
      "metadata": {
        "id": "WBh3G0YeJNYC",
        "colab": {
          "base_uri": "https://localhost:8080/"
        },
        "outputId": "c897945f-5d2f-4f5d-a9b7-d442293e2d9b"
      },
      "execution_count": 12,
      "outputs": [
        {
          "output_type": "stream",
          "name": "stdout",
          "text": [
            "4/4 [==============================] - 0s 4ms/step - loss: 21.9483 - mae: 3.0776\n",
            "loss value:  21.94828224182129\n",
            "Mean absolute error:  3.0775883197784424\n"
          ]
        }
      ]
    },
    {
      "cell_type": "code",
      "source": [
        "'''=== predict the house price ==='''\n",
        "\n",
        "# predict house price using the test data \n",
        "test_predictions = model.predict(X_test).flatten()"
      ],
      "metadata": {
        "id": "pU6XhvG1KGAW",
        "colab": {
          "base_uri": "https://localhost:8080/"
        },
        "outputId": "1759a4b8-4e21-492e-daad-d9cac5c59a68"
      },
      "execution_count": 13,
      "outputs": [
        {
          "output_type": "stream",
          "name": "stdout",
          "text": [
            "4/4 [==============================] - 0s 4ms/step\n"
          ]
        }
      ]
    },
    {
      "cell_type": "code",
      "source": [
        "# show the true value and predicted value in dataframe\n",
        "true_predicted = pd.DataFrame(list(zip(y_test, test_predictions)), \n",
        "                    columns=['True Value','Predicted Value'])\n",
        "true_predicted.sample(10)"
      ],
      "metadata": {
        "id": "YU_uYor-KKxe",
        "colab": {
          "base_uri": "https://localhost:8080/",
          "height": 363
        },
        "outputId": "90759a78-f582-47cd-ce40-6f6c87a7a5f6"
      },
      "execution_count": 14,
      "outputs": [
        {
          "output_type": "execute_result",
          "data": {
            "text/plain": [
              "    True Value  Predicted Value\n",
              "44        16.5        20.704359\n",
              "16        23.0        23.480921\n",
              "6         20.6        22.611464\n",
              "29        18.7        17.310009\n",
              "28        38.7        39.893513\n",
              "53        42.8        43.647911\n",
              "31        20.0        15.545883\n",
              "62        33.1        33.849930\n",
              "84        50.0        44.138569\n",
              "79        18.3        16.530415"
            ],
            "text/html": [
              "\n",
              "  <div id=\"df-66db83cb-5545-42fc-9040-1e24a5486900\">\n",
              "    <div class=\"colab-df-container\">\n",
              "      <div>\n",
              "<style scoped>\n",
              "    .dataframe tbody tr th:only-of-type {\n",
              "        vertical-align: middle;\n",
              "    }\n",
              "\n",
              "    .dataframe tbody tr th {\n",
              "        vertical-align: top;\n",
              "    }\n",
              "\n",
              "    .dataframe thead th {\n",
              "        text-align: right;\n",
              "    }\n",
              "</style>\n",
              "<table border=\"1\" class=\"dataframe\">\n",
              "  <thead>\n",
              "    <tr style=\"text-align: right;\">\n",
              "      <th></th>\n",
              "      <th>True Value</th>\n",
              "      <th>Predicted Value</th>\n",
              "    </tr>\n",
              "  </thead>\n",
              "  <tbody>\n",
              "    <tr>\n",
              "      <th>44</th>\n",
              "      <td>16.5</td>\n",
              "      <td>20.704359</td>\n",
              "    </tr>\n",
              "    <tr>\n",
              "      <th>16</th>\n",
              "      <td>23.0</td>\n",
              "      <td>23.480921</td>\n",
              "    </tr>\n",
              "    <tr>\n",
              "      <th>6</th>\n",
              "      <td>20.6</td>\n",
              "      <td>22.611464</td>\n",
              "    </tr>\n",
              "    <tr>\n",
              "      <th>29</th>\n",
              "      <td>18.7</td>\n",
              "      <td>17.310009</td>\n",
              "    </tr>\n",
              "    <tr>\n",
              "      <th>28</th>\n",
              "      <td>38.7</td>\n",
              "      <td>39.893513</td>\n",
              "    </tr>\n",
              "    <tr>\n",
              "      <th>53</th>\n",
              "      <td>42.8</td>\n",
              "      <td>43.647911</td>\n",
              "    </tr>\n",
              "    <tr>\n",
              "      <th>31</th>\n",
              "      <td>20.0</td>\n",
              "      <td>15.545883</td>\n",
              "    </tr>\n",
              "    <tr>\n",
              "      <th>62</th>\n",
              "      <td>33.1</td>\n",
              "      <td>33.849930</td>\n",
              "    </tr>\n",
              "    <tr>\n",
              "      <th>84</th>\n",
              "      <td>50.0</td>\n",
              "      <td>44.138569</td>\n",
              "    </tr>\n",
              "    <tr>\n",
              "      <th>79</th>\n",
              "      <td>18.3</td>\n",
              "      <td>16.530415</td>\n",
              "    </tr>\n",
              "  </tbody>\n",
              "</table>\n",
              "</div>\n",
              "      <button class=\"colab-df-convert\" onclick=\"convertToInteractive('df-66db83cb-5545-42fc-9040-1e24a5486900')\"\n",
              "              title=\"Convert this dataframe to an interactive table.\"\n",
              "              style=\"display:none;\">\n",
              "        \n",
              "  <svg xmlns=\"http://www.w3.org/2000/svg\" height=\"24px\"viewBox=\"0 0 24 24\"\n",
              "       width=\"24px\">\n",
              "    <path d=\"M0 0h24v24H0V0z\" fill=\"none\"/>\n",
              "    <path d=\"M18.56 5.44l.94 2.06.94-2.06 2.06-.94-2.06-.94-.94-2.06-.94 2.06-2.06.94zm-11 1L8.5 8.5l.94-2.06 2.06-.94-2.06-.94L8.5 2.5l-.94 2.06-2.06.94zm10 10l.94 2.06.94-2.06 2.06-.94-2.06-.94-.94-2.06-.94 2.06-2.06.94z\"/><path d=\"M17.41 7.96l-1.37-1.37c-.4-.4-.92-.59-1.43-.59-.52 0-1.04.2-1.43.59L10.3 9.45l-7.72 7.72c-.78.78-.78 2.05 0 2.83L4 21.41c.39.39.9.59 1.41.59.51 0 1.02-.2 1.41-.59l7.78-7.78 2.81-2.81c.8-.78.8-2.07 0-2.86zM5.41 20L4 18.59l7.72-7.72 1.47 1.35L5.41 20z\"/>\n",
              "  </svg>\n",
              "      </button>\n",
              "      \n",
              "  <style>\n",
              "    .colab-df-container {\n",
              "      display:flex;\n",
              "      flex-wrap:wrap;\n",
              "      gap: 12px;\n",
              "    }\n",
              "\n",
              "    .colab-df-convert {\n",
              "      background-color: #E8F0FE;\n",
              "      border: none;\n",
              "      border-radius: 50%;\n",
              "      cursor: pointer;\n",
              "      display: none;\n",
              "      fill: #1967D2;\n",
              "      height: 32px;\n",
              "      padding: 0 0 0 0;\n",
              "      width: 32px;\n",
              "    }\n",
              "\n",
              "    .colab-df-convert:hover {\n",
              "      background-color: #E2EBFA;\n",
              "      box-shadow: 0px 1px 2px rgba(60, 64, 67, 0.3), 0px 1px 3px 1px rgba(60, 64, 67, 0.15);\n",
              "      fill: #174EA6;\n",
              "    }\n",
              "\n",
              "    [theme=dark] .colab-df-convert {\n",
              "      background-color: #3B4455;\n",
              "      fill: #D2E3FC;\n",
              "    }\n",
              "\n",
              "    [theme=dark] .colab-df-convert:hover {\n",
              "      background-color: #434B5C;\n",
              "      box-shadow: 0px 1px 3px 1px rgba(0, 0, 0, 0.15);\n",
              "      filter: drop-shadow(0px 1px 2px rgba(0, 0, 0, 0.3));\n",
              "      fill: #FFFFFF;\n",
              "    }\n",
              "  </style>\n",
              "\n",
              "      <script>\n",
              "        const buttonEl =\n",
              "          document.querySelector('#df-66db83cb-5545-42fc-9040-1e24a5486900 button.colab-df-convert');\n",
              "        buttonEl.style.display =\n",
              "          google.colab.kernel.accessAllowed ? 'block' : 'none';\n",
              "\n",
              "        async function convertToInteractive(key) {\n",
              "          const element = document.querySelector('#df-66db83cb-5545-42fc-9040-1e24a5486900');\n",
              "          const dataTable =\n",
              "            await google.colab.kernel.invokeFunction('convertToInteractive',\n",
              "                                                     [key], {});\n",
              "          if (!dataTable) return;\n",
              "\n",
              "          const docLinkHtml = 'Like what you see? Visit the ' +\n",
              "            '<a target=\"_blank\" href=https://colab.research.google.com/notebooks/data_table.ipynb>data table notebook</a>'\n",
              "            + ' to learn more about interactive tables.';\n",
              "          element.innerHTML = '';\n",
              "          dataTable['output_type'] = 'display_data';\n",
              "          await google.colab.output.renderOutput(dataTable, element);\n",
              "          const docLink = document.createElement('div');\n",
              "          docLink.innerHTML = docLinkHtml;\n",
              "          element.appendChild(docLink);\n",
              "        }\n",
              "      </script>\n",
              "    </div>\n",
              "  </div>\n",
              "  "
            ]
          },
          "metadata": {},
          "execution_count": 14
        }
      ]
    },
    {
      "cell_type": "code",
      "source": [
        "from sklearn.linear_model import LinearRegression\n",
        "lr_model = LinearRegression()\n",
        "lr_model.fit(X_train, y_train)\n",
        "y_pred_lr = lr_model.predict(X_test)\n"
      ],
      "metadata": {
        "id": "k_w5EXMR7cN1"
      },
      "execution_count": 15,
      "outputs": []
    },
    {
      "cell_type": "code",
      "source": [
        "from sklearn.metrics import mean_squared_error, mean_absolute_error\n",
        "mse_lr = mean_squared_error(y_test, y_pred_lr)\n",
        "mae_lr = mean_absolute_error(y_test, y_pred_lr)\n",
        "print('Mean squared error on test data: ', mse_lr)\n",
        "print('Mean absolute error on test data: ', mae_lr)\n"
      ],
      "metadata": {
        "id": "KHiwcGBR7xCR",
        "colab": {
          "base_uri": "https://localhost:8080/"
        },
        "outputId": "9d3a0ffb-0130-48ca-cb9b-c81608f50804"
      },
      "execution_count": 16,
      "outputs": [
        {
          "output_type": "stream",
          "name": "stdout",
          "text": [
            "Mean squared error on test data:  33.448979997676545\n",
            "Mean absolute error on test data:  3.842909220444498\n"
          ]
        }
      ]
    },
    {
      "cell_type": "code",
      "source": [
        "from sklearn.ensemble import RandomForestRegressor\n",
        "RF_model = RandomForestRegressor()\n",
        "RF_model.fit(X_train, y_train)\n",
        "y_pred_RF = RF_model.predict(X_test)"
      ],
      "metadata": {
        "id": "y8NmE_8N9EQQ"
      },
      "execution_count": 17,
      "outputs": []
    },
    {
      "cell_type": "code",
      "source": [
        "from sklearn.metrics import mean_squared_error, mean_absolute_error\n",
        "mse_RF = mean_squared_error(y_test, y_pred_RF)\n",
        "mae_RF = mean_absolute_error(y_test, y_pred_RF)\n",
        "print('Mean squared error on test data: ', mse_RF)\n",
        "print('Mean absolute error on test data: ', mae_RF)"
      ],
      "metadata": {
        "id": "cki-J9689k1_",
        "colab": {
          "base_uri": "https://localhost:8080/"
        },
        "outputId": "ee53c621-9d6a-4cbd-a7d0-cf1786eff8e4"
      },
      "execution_count": 18,
      "outputs": [
        {
          "output_type": "stream",
          "name": "stdout",
          "text": [
            "Mean squared error on test data:  18.973554117647073\n",
            "Mean absolute error on test data:  2.6621176470588264\n"
          ]
        }
      ]
    },
    {
      "cell_type": "code",
      "source": [
        "true_predicted = pd.DataFrame(list(zip(y_test, test_predictions,y_pred_lr, y_pred_RF)), \n",
        "                    columns=['True Value','Predicted Value_NN', 'Predicted Value_LR', 'Predicted Value_RF'])\n",
        "true_predicted.sample(10)"
      ],
      "metadata": {
        "id": "KGpOM--48G02",
        "colab": {
          "base_uri": "https://localhost:8080/",
          "height": 363
        },
        "outputId": "8204c299-725a-4dbd-f9f0-331e0b29632a"
      },
      "execution_count": 19,
      "outputs": [
        {
          "output_type": "execute_result",
          "data": {
            "text/plain": [
              "    True Value  Predicted Value_NN  Predicted Value_LR  Predicted Value_RF\n",
              "82        27.9           21.372072           18.971860              21.507\n",
              "71        21.4           19.157516           24.025557              22.771\n",
              "67        15.0           24.159033           19.786935              21.473\n",
              "53        42.8           43.647911           29.951430              40.025\n",
              "7         18.7           18.561699           21.360993              19.985\n",
              "69        22.6           21.699501           22.898254              21.798\n",
              "46        20.3           19.812819           20.114595              20.960\n",
              "37        50.0           38.254890           24.575606              28.390\n",
              "22        20.4           19.701298           20.595438              19.642\n",
              "12        14.9           14.223360           17.077765              15.163"
            ],
            "text/html": [
              "\n",
              "  <div id=\"df-25a47d63-c307-4a7d-bc5b-11ecff981136\">\n",
              "    <div class=\"colab-df-container\">\n",
              "      <div>\n",
              "<style scoped>\n",
              "    .dataframe tbody tr th:only-of-type {\n",
              "        vertical-align: middle;\n",
              "    }\n",
              "\n",
              "    .dataframe tbody tr th {\n",
              "        vertical-align: top;\n",
              "    }\n",
              "\n",
              "    .dataframe thead th {\n",
              "        text-align: right;\n",
              "    }\n",
              "</style>\n",
              "<table border=\"1\" class=\"dataframe\">\n",
              "  <thead>\n",
              "    <tr style=\"text-align: right;\">\n",
              "      <th></th>\n",
              "      <th>True Value</th>\n",
              "      <th>Predicted Value_NN</th>\n",
              "      <th>Predicted Value_LR</th>\n",
              "      <th>Predicted Value_RF</th>\n",
              "    </tr>\n",
              "  </thead>\n",
              "  <tbody>\n",
              "    <tr>\n",
              "      <th>82</th>\n",
              "      <td>27.9</td>\n",
              "      <td>21.372072</td>\n",
              "      <td>18.971860</td>\n",
              "      <td>21.507</td>\n",
              "    </tr>\n",
              "    <tr>\n",
              "      <th>71</th>\n",
              "      <td>21.4</td>\n",
              "      <td>19.157516</td>\n",
              "      <td>24.025557</td>\n",
              "      <td>22.771</td>\n",
              "    </tr>\n",
              "    <tr>\n",
              "      <th>67</th>\n",
              "      <td>15.0</td>\n",
              "      <td>24.159033</td>\n",
              "      <td>19.786935</td>\n",
              "      <td>21.473</td>\n",
              "    </tr>\n",
              "    <tr>\n",
              "      <th>53</th>\n",
              "      <td>42.8</td>\n",
              "      <td>43.647911</td>\n",
              "      <td>29.951430</td>\n",
              "      <td>40.025</td>\n",
              "    </tr>\n",
              "    <tr>\n",
              "      <th>7</th>\n",
              "      <td>18.7</td>\n",
              "      <td>18.561699</td>\n",
              "      <td>21.360993</td>\n",
              "      <td>19.985</td>\n",
              "    </tr>\n",
              "    <tr>\n",
              "      <th>69</th>\n",
              "      <td>22.6</td>\n",
              "      <td>21.699501</td>\n",
              "      <td>22.898254</td>\n",
              "      <td>21.798</td>\n",
              "    </tr>\n",
              "    <tr>\n",
              "      <th>46</th>\n",
              "      <td>20.3</td>\n",
              "      <td>19.812819</td>\n",
              "      <td>20.114595</td>\n",
              "      <td>20.960</td>\n",
              "    </tr>\n",
              "    <tr>\n",
              "      <th>37</th>\n",
              "      <td>50.0</td>\n",
              "      <td>38.254890</td>\n",
              "      <td>24.575606</td>\n",
              "      <td>28.390</td>\n",
              "    </tr>\n",
              "    <tr>\n",
              "      <th>22</th>\n",
              "      <td>20.4</td>\n",
              "      <td>19.701298</td>\n",
              "      <td>20.595438</td>\n",
              "      <td>19.642</td>\n",
              "    </tr>\n",
              "    <tr>\n",
              "      <th>12</th>\n",
              "      <td>14.9</td>\n",
              "      <td>14.223360</td>\n",
              "      <td>17.077765</td>\n",
              "      <td>15.163</td>\n",
              "    </tr>\n",
              "  </tbody>\n",
              "</table>\n",
              "</div>\n",
              "      <button class=\"colab-df-convert\" onclick=\"convertToInteractive('df-25a47d63-c307-4a7d-bc5b-11ecff981136')\"\n",
              "              title=\"Convert this dataframe to an interactive table.\"\n",
              "              style=\"display:none;\">\n",
              "        \n",
              "  <svg xmlns=\"http://www.w3.org/2000/svg\" height=\"24px\"viewBox=\"0 0 24 24\"\n",
              "       width=\"24px\">\n",
              "    <path d=\"M0 0h24v24H0V0z\" fill=\"none\"/>\n",
              "    <path d=\"M18.56 5.44l.94 2.06.94-2.06 2.06-.94-2.06-.94-.94-2.06-.94 2.06-2.06.94zm-11 1L8.5 8.5l.94-2.06 2.06-.94-2.06-.94L8.5 2.5l-.94 2.06-2.06.94zm10 10l.94 2.06.94-2.06 2.06-.94-2.06-.94-.94-2.06-.94 2.06-2.06.94z\"/><path d=\"M17.41 7.96l-1.37-1.37c-.4-.4-.92-.59-1.43-.59-.52 0-1.04.2-1.43.59L10.3 9.45l-7.72 7.72c-.78.78-.78 2.05 0 2.83L4 21.41c.39.39.9.59 1.41.59.51 0 1.02-.2 1.41-.59l7.78-7.78 2.81-2.81c.8-.78.8-2.07 0-2.86zM5.41 20L4 18.59l7.72-7.72 1.47 1.35L5.41 20z\"/>\n",
              "  </svg>\n",
              "      </button>\n",
              "      \n",
              "  <style>\n",
              "    .colab-df-container {\n",
              "      display:flex;\n",
              "      flex-wrap:wrap;\n",
              "      gap: 12px;\n",
              "    }\n",
              "\n",
              "    .colab-df-convert {\n",
              "      background-color: #E8F0FE;\n",
              "      border: none;\n",
              "      border-radius: 50%;\n",
              "      cursor: pointer;\n",
              "      display: none;\n",
              "      fill: #1967D2;\n",
              "      height: 32px;\n",
              "      padding: 0 0 0 0;\n",
              "      width: 32px;\n",
              "    }\n",
              "\n",
              "    .colab-df-convert:hover {\n",
              "      background-color: #E2EBFA;\n",
              "      box-shadow: 0px 1px 2px rgba(60, 64, 67, 0.3), 0px 1px 3px 1px rgba(60, 64, 67, 0.15);\n",
              "      fill: #174EA6;\n",
              "    }\n",
              "\n",
              "    [theme=dark] .colab-df-convert {\n",
              "      background-color: #3B4455;\n",
              "      fill: #D2E3FC;\n",
              "    }\n",
              "\n",
              "    [theme=dark] .colab-df-convert:hover {\n",
              "      background-color: #434B5C;\n",
              "      box-shadow: 0px 1px 3px 1px rgba(0, 0, 0, 0.15);\n",
              "      filter: drop-shadow(0px 1px 2px rgba(0, 0, 0, 0.3));\n",
              "      fill: #FFFFFF;\n",
              "    }\n",
              "  </style>\n",
              "\n",
              "      <script>\n",
              "        const buttonEl =\n",
              "          document.querySelector('#df-25a47d63-c307-4a7d-bc5b-11ecff981136 button.colab-df-convert');\n",
              "        buttonEl.style.display =\n",
              "          google.colab.kernel.accessAllowed ? 'block' : 'none';\n",
              "\n",
              "        async function convertToInteractive(key) {\n",
              "          const element = document.querySelector('#df-25a47d63-c307-4a7d-bc5b-11ecff981136');\n",
              "          const dataTable =\n",
              "            await google.colab.kernel.invokeFunction('convertToInteractive',\n",
              "                                                     [key], {});\n",
              "          if (!dataTable) return;\n",
              "\n",
              "          const docLinkHtml = 'Like what you see? Visit the ' +\n",
              "            '<a target=\"_blank\" href=https://colab.research.google.com/notebooks/data_table.ipynb>data table notebook</a>'\n",
              "            + ' to learn more about interactive tables.';\n",
              "          element.innerHTML = '';\n",
              "          dataTable['output_type'] = 'display_data';\n",
              "          await google.colab.output.renderOutput(dataTable, element);\n",
              "          const docLink = document.createElement('div');\n",
              "          docLink.innerHTML = docLinkHtml;\n",
              "          element.appendChild(docLink);\n",
              "        }\n",
              "      </script>\n",
              "    </div>\n",
              "  </div>\n",
              "  "
            ]
          },
          "metadata": {},
          "execution_count": 19
        }
      ]
    }
  ]
}